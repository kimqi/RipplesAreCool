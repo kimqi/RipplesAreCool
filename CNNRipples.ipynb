{
 "cells": [
  {
   "cell_type": "code",
   "execution_count": 3,
   "outputs": [],
   "source": [
    "import numpy as np\n",
    "import os\n",
    "import sys\n",
    "import matplotlib.pyplot as plt\n",
    "import seaborn as sns\n",
    "import pandas as pd\n",
    "from pathlib import Path\n",
    "import platform\n",
    "import tkinter as tk\n",
    "from tkinter import filedialog\n",
    "\n",
    "from neuropy.io.neuroscopeio import NeuroscopeIO\n",
    "from neuropy.io.binarysignalio import BinarysignalIO \n",
    "from neuropy.io.miniscopeio import MiniscopeIO\n",
    "from neuropy.core import Epoch\n",
    "from neuropy.utils import plot_util\n",
    "from neuropy.plotting.spikes import plot_raster\n",
    "from neuropy.plotting.signals import plot_signal_w_epochs\n",
    "\n",
    "\n",
    "\n",
    "\n",
    "sys.path.insert(1, '/content/cnn-ripple/src/cnn/');\n"
   ],
   "metadata": {
    "collapsed": false,
    "ExecuteTime": {
     "end_time": "2023-10-02T15:09:13.143402900Z",
     "start_time": "2023-10-02T15:09:12.721736400Z"
    }
   },
   "id": "5a753c8911d14fbc"
  },
  {
   "cell_type": "code",
   "execution_count": 4,
   "outputs": [],
   "source": [
    "# Define a class for a typical recording or set of recordings\n",
    "class ProcessData:\n",
    "    def __init__(self, basepath):\n",
    "        basepath = Path(basepath)\n",
    "        self.basepath = basepath\n",
    "        xml_files = sorted(basepath.glob(\"*.xml\"))\n",
    "        assert len(xml_files) == 1, \"Found more/less than one .xml file\"\n",
    "        \n",
    "        fp = xml_files[0].with_suffix(\"\")\n",
    "        self.filePrefix = fp\n",
    "        \n",
    "        self.recinfo = NeuroscopeIO(xml_files[0])\n",
    "        eegfiles = sorted(basepath.glob('*.eeg'))\n",
    "        assert len(eegfiles) == 1, \"Fewer/more than one .eeg file detected\"\n",
    "        self.eegfile = BinarysignalIO(eegfiles[0], n_channels=self.recinfo.n_channels,\n",
    "                                     sampling_rate=self.recinfo.eeg_sampling_rate,\n",
    "                                     )\n",
    "        try:\n",
    "            self.datfile = BinarysignalIO(eegfiles[0].with_suffix('.dat'),\n",
    "                                         n_channels=self.recinfo.n_channels,\n",
    "                                         sampling_rate=self.recinfo.dat_sampling_rate,\n",
    "                                         )\n",
    "        except FileNotFoundError:\n",
    "            print('No dat file found, not loading')\n",
    "                \n",
    "        \n",
    "    def __repr__(self) -> str:\n",
    "        return f\"{self.__class__.__name__}({self.recinfo.source_file.name})\"\n",
    "    \n",
    "def sess_use(basepath=os.getcwd()):\n",
    "    \"\"\"Load in data. Uses current directory as default\"\"\"\n",
    "\n",
    "    return ProcessData(basepath)"
   ],
   "metadata": {
    "collapsed": false,
    "ExecuteTime": {
     "end_time": "2023-10-02T15:09:14.942694100Z",
     "start_time": "2023-10-02T15:09:14.940701300Z"
    }
   },
   "id": "b0ed246c0ad040de"
  },
  {
   "cell_type": "code",
   "execution_count": 7,
   "outputs": [
    {
     "name": "stdout",
     "output_type": "stream",
     "text": [
      "Selected Data Directory: D:/Data/RippleDetection/20230309Recall1\n",
      "No dat file found, not loading\n",
      "filename: D:\\Data\\RippleDetection\\20230309Recall1\\Django_recall1_denoised.xml \n",
      "# channels: 134\n",
      "sampling rate: 30000\n",
      "lfp Srate (downsampled): 1250\n",
      "\n",
      "duration: 4532.47 seconds \n",
      "duration: 1.26 hours \n"
     ]
    }
   ],
   "source": [
    "# Open a directory chooser dialog\n",
    "dir_use = filedialog.askdirectory(title=\"Please select a data folder\")\n",
    "\n",
    "# Check if user selected a directory or pressed cancel\n",
    "if dir_use:\n",
    "    print(f\"Selected Data Directory: {dir_use}\")\n",
    "else:\n",
    "    print(\"No directory was selected.\")\n",
    "\n",
    "\n",
    "\n",
    "# dir_use = '/home/kimqi/Documents/Data/Orange/20230905'  # Add directory here!\n",
    "sess = sess_use(dir_use)\n",
    "print(sess.recinfo)\n",
    "print(sess.eegfile)"
   ],
   "metadata": {
    "collapsed": false,
    "ExecuteTime": {
     "end_time": "2023-10-02T15:11:28.939675600Z",
     "start_time": "2023-10-02T15:11:25.241481300Z"
    }
   },
   "id": "b5dbd482de2f2b5"
  },
  {
   "cell_type": "code",
   "execution_count": 8,
   "outputs": [
    {
     "name": "stdout",
     "output_type": "stream",
     "text": [
      "Buffer of 0.1 added before/after each epoch\n",
      "D:\\Data\\RippleDetection\\20230309Recall1\\Django_recall1_denoised.art_epochs.npy saved\n"
     ]
    },
    {
     "data": {
      "text/plain": "50 epochs\nSnippet: \n       start      stop label\n0   15.8128   16.0408      \n1  146.7296  147.0024      \n2  270.5160  270.7768      \n3  410.8512  411.0968      \n4  421.0152  421.3176      "
     },
     "execution_count": 8,
     "metadata": {},
     "output_type": "execute_result"
    }
   ],
   "source": [
    "from neuropy.analyses.artifact import detect_artifact_epochs\n",
    "signal = sess.eegfile.get_signal()\n",
    "buffer_add = 0.1  # seconds, None = don't add\n",
    "\n",
    "art_epochs_file = sess.filePrefix.with_suffix(\".art_epochs.npy\")\n",
    "if art_epochs_file.exists():\n",
    "    art_epochs = Epoch(epochs=None, file=art_epochs_file)\n",
    "    print('Existing artifact epochs file loaded')\n",
    "else:\n",
    "    art_epochs = detect_artifact_epochs(signal, thresh=6, \n",
    "                                    edge_cutoff=1, merge=6)\n",
    "\n",
    "    if buffer_add is not None:  # Add in buffer to prevent erroneous detection of start/stop of artifact as SWRs\n",
    "        art_epochs.add_epoch_buffer(buffer_add)\n",
    "    sess.recinfo.write_epochs(epochs=art_epochs, ext='art')  # Write to neuroscope\n",
    "    art_epochs.save(art_epochs_file)\n",
    "art_epochs"
   ],
   "metadata": {
    "collapsed": false,
    "ExecuteTime": {
     "end_time": "2023-10-02T15:11:44.773335100Z",
     "start_time": "2023-10-02T15:11:43.577375200Z"
    }
   },
   "id": "16b4516d130769e8"
  },
  {
   "cell_type": "code",
   "execution_count": 9,
   "outputs": [
    {
     "name": "stdout",
     "output_type": "stream",
     "text": [
      "<neuropy.core.signal.Signal object at 0x0000012AC4193510>\n"
     ]
    }
   ],
   "source": [
    "print(signal)"
   ],
   "metadata": {
    "collapsed": false,
    "ExecuteTime": {
     "end_time": "2023-10-02T15:12:10.266766400Z",
     "start_time": "2023-10-02T15:12:10.265261500Z"
    }
   },
   "id": "de52cfacc0a792e0"
  },
  {
   "cell_type": "code",
   "execution_count": 11,
   "outputs": [
    {
     "name": "stdout",
     "output_type": "stream",
     "text": [
      "Variable                        Type           Data/Info\n",
      "--------------------------------------------------------\n",
      "BinarysignalIO                  type           <class 'neuropy.io.binary<...>signalio.BinarysignalIO'>\n",
      "Epoch                           type           <class 'neuropy.core.epoch.Epoch'>\n",
      "MiniscopeIO                     type           <class 'neuropy.io.miniscopeio.MiniscopeIO'>\n",
      "NeuroscopeIO                    type           <class 'neuropy.io.neuroscopeio.NeuroscopeIO'>\n",
      "Path                            type           <class 'pathlib.Path'>\n",
      "ProcessData                     type           <class '__main__.ProcessData'>\n",
      "art_epochs                      Epoch          <object with id 1283194176848 (str() failed)>\n",
      "art_epochs_file                 WindowsPath    D:\\Data\\RippleDetection\\2<...>1_denoised.art_epochs.npy\n",
      "buffer_add                      float          0.1\n",
      "detect_artifact_epochs          function       <function detect_artifact<...>hs at 0x0000012AC3F61D00>\n",
      "dir_path                        str            D:/Data/RippleDetection/T<...>tan_Rec._Controller-100.0\n",
      "dir_use                         str            D:/Data/RippleDetection/20230309Recall1\n",
      "filedialog                      module         <module 'tkinter.filedial<...>\\tkinter\\\\filedialog.py'>\n",
      "loaded_data                     ndarray        47790848: 47790848 elems, type `int64`, 382326784 bytes (364.615234375 Mb)\n",
      "np                              module         <module 'numpy' from 'C:\\<...>ges\\\\numpy\\\\__init__.py'>\n",
      "os                              module         <module 'os' (frozen)>\n",
      "pd                              module         <module 'pandas' from 'C:<...>es\\\\pandas\\\\__init__.py'>\n",
      "platform                        module         <module 'platform' from '<...>eCool\\\\Lib\\\\platform.py'>\n",
      "plot_raster                     function       <function plot_raster at 0x0000012AC26A1260>\n",
      "plot_signal_w_epochs            function       <function plot_signal_w_e<...>hs at 0x0000012AC26A1F80>\n",
      "plot_util                       module         <module 'neuropy.utils.pl<...>py\\\\utils\\\\plot_util.py'>\n",
      "plt                             module         <module 'matplotlib.pyplo<...>\\\\matplotlib\\\\pyplot.py'>\n",
      "pydev_jupyter_vars              module         <module 'pydev_jupyter_va<...>\\\\pydev_jupyter_vars.py'>\n",
      "remove_imported_pydev_package   function       <function remove_imported<...>ge at 0x0000012AA9E891C0>\n",
      "sess                            ProcessData    ProcessData(Django_recall1_denoised.xml)\n",
      "sess_use                        function       <function sess_use at 0x0000012AA9EC6FC0>\n",
      "signal                          Signal         <neuropy.core.signal.Sign<...>ct at 0x0000012AC4193510>\n",
      "sns                             module         <module 'seaborn' from 'C<...>s\\\\seaborn\\\\__init__.py'>\n",
      "sys                             module         <module 'sys' (built-in)>\n",
      "tk                              module         <module 'tkinter' from 'C<...>b\\\\tkinter\\\\__init__.py'>\n"
     ]
    }
   ],
   "source": [
    "# Debugging Cell\n",
    "%whos"
   ],
   "metadata": {
    "collapsed": false,
    "ExecuteTime": {
     "end_time": "2023-10-02T15:14:54.494532600Z",
     "start_time": "2023-10-02T15:14:54.489024200Z"
    }
   },
   "id": "d1d26890188a8f63"
  }
 ],
 "metadata": {
  "kernelspec": {
   "display_name": "Python 3",
   "language": "python",
   "name": "python3"
  },
  "language_info": {
   "codemirror_mode": {
    "name": "ipython",
    "version": 2
   },
   "file_extension": ".py",
   "mimetype": "text/x-python",
   "name": "python",
   "nbconvert_exporter": "python",
   "pygments_lexer": "ipython2",
   "version": "2.7.6"
  }
 },
 "nbformat": 4,
 "nbformat_minor": 5
}
