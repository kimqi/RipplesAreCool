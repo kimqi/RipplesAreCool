{
 "cells": [
  {
   "cell_type": "code",
   "execution_count": 51,
   "id": "ed2818c9148812bf",
   "metadata": {
    "collapsed": true,
    "ExecuteTime": {
     "end_time": "2023-10-24T19:12:26.744366643Z",
     "start_time": "2023-10-24T19:12:26.702586868Z"
    }
   },
   "outputs": [],
   "source": [
    "# Imports\n",
    "import tkinter as tk\n",
    "import os\n",
    "import platform\n",
    "import glob\n",
    "from tkinter import filedialog\n",
    "import re\n",
    "from pathlib import Path\n",
    "import shutil\n",
    "## Sets backend plotting for matplotlib to use notebook so that it is interactable. This is specifically for PyCharm so you can comment it out if you don't need it\n",
    "%matplotlib notebook "
   ]
  },
  {
   "cell_type": "code",
   "execution_count": 52,
   "outputs": [
    {
     "name": "stdout",
     "output_type": "stream",
     "text": [
      "Selected Data Directory: /home/kimqi/Documents/Data/Raw/Orange/2023-08-17_10-01-16\n",
      "Selected Data Directory: /home/kimqi/Documents/Data/Preprocessed Data/Orange\n",
      "Detected Linux OS\n",
      "New folder created at: /home/kimqi/Documents/Data/Preprocessed Data/Orange/2023-08-17\n"
     ]
    }
   ],
   "source": [
    "# Set up all file directories\n",
    "## Create a root window and immediately hide it\n",
    "root = tk.Tk()\n",
    "root.withdraw()\n",
    "\n",
    "## Open a directory selector UI for raw data location\n",
    "### e.g. D:/Data/Preprocessing/Raw/Orange/2023-08-29_15-17-41\n",
    "dir_path = filedialog.askdirectory(title=\"Please select a data folder\")\n",
    "### Check if user selected a directory or pressed cancel\n",
    "if dir_path:\n",
    "    print(f\"Selected Data Directory: {dir_path}\")\n",
    "else:\n",
    "    print(\"No directory was selected.\")\n",
    "\n",
    "## Open a directory selector UI for output directory.\n",
    "output_path = filedialog.askdirectory(title=\"Please select a output folder\")\n",
    "if dir_path:\n",
    "    print(f\"Selected Data Directory: {output_path}\")\n",
    "else:\n",
    "    print(\"No directory was selected.\")\n",
    "\n",
    "\n",
    "## Add in the correct locations for NeuroPy repositories on your computer(s) here:\n",
    "if platform.system() == \"Linux\":\n",
    "    print(\"Detected Linux OS\")\n",
    "elif platform.system() == \"Darwin\":\n",
    "    print(\"Detected MacOS\")\n",
    "elif platform.system() == \"Windows\":\n",
    "    print(\"Detected Windows OS\")\n",
    "else:\n",
    "    print(\"Unknown OS.\") # This should never show. Big issues if this happens I guess.\n",
    "    \n",
    "## Set up output directory, and if it doesn't exist, create it.\n",
    "base_path = Path(dir_path)\n",
    "output_path = Path(output_path)\n",
    "date_folder = base_path.name.split('_')[0]\n",
    "new_output_path = output_path / date_folder\n",
    "new_output_path.mkdir(exist_ok=True)\n",
    "date_part = dir_path.split('/')[-1].split('_')[0]\n",
    "formatted_date = date_part.replace('-', '')\n",
    "print(f\"New folder created at: {new_output_path}\")"
   ],
   "metadata": {
    "collapsed": false,
    "ExecuteTime": {
     "end_time": "2023-10-24T19:12:44.735093050Z",
     "start_time": "2023-10-24T19:12:28.695615269Z"
    }
   },
   "id": "18426060a07416f1"
  },
  {
   "cell_type": "code",
   "execution_count": 53,
   "outputs": [
    {
     "name": "stdout",
     "output_type": "stream",
     "text": [
      "Select a record node for preprocessing:\n",
      "1. 106\n",
      "Preprocessing 106\n"
     ]
    }
   ],
   "source": [
    "# Get record node from user.\n",
    "entries = os.listdir(dir_path)\n",
    "recordn_dir = [entry for entry in entries if os.path.isdir(os.path.join(dir_path, entry))]\n",
    "nodes = [int(re.search(r'\\d+', node).group()) for node in recordn_dir]\n",
    "\n",
    "# Display choices to user\n",
    "print(\"Select a record node for preprocessing:\")\n",
    "for i, num in enumerate(nodes, 1):\n",
    "    print(f\"{i}. {num}\")\n",
    "\n",
    "#\n",
    "choice = int(input(\"Enter the choice number: \"))\n",
    "\n",
    "# Validate choice\n",
    "if choice in nodes:\n",
    "    selected_record_node = choice\n",
    "    print(f\"Preprocessing {selected_record_node}\")\n",
    "else:\n",
    "    print(\"Invalid choice. Stopping preprocessing step.\")"
   ],
   "metadata": {
    "collapsed": false,
    "ExecuteTime": {
     "end_time": "2023-10-24T19:12:49.699444224Z",
     "start_time": "2023-10-24T19:12:48.162704655Z"
    }
   },
   "id": "efe951430c2fc6cc"
  },
  {
   "cell_type": "code",
   "execution_count": 54,
   "outputs": [
    {
     "name": "stdout",
     "output_type": "stream",
     "text": [
      "/home/kimqi/Documents/Data/Raw/Orange/2023-08-17_10-01-16/Record Node 106/experiment2/recording1/continuous/Intan_Rec._Controller-100.0/continuous.dat\n",
      "/home/kimqi/Documents/Data/Raw/Orange/2023-08-17_10-01-16/Record Node 106/experiment2/recording3/continuous/Intan_Rec._Controller-100.0/continuous.dat\n",
      "/home/kimqi/Documents/Data/Raw/Orange/2023-08-17_10-01-16/Record Node 106/experiment2/recording2/continuous/Intan_Rec._Controller-100.0/continuous.dat\n",
      "/home/kimqi/Documents/Data/Raw/Orange/2023-08-17_10-01-16/Record Node 106/experiment1/recording1/continuous/Intan_Rec._Controller-100.0/continuous.dat\n"
     ]
    }
   ],
   "source": [
    "# Find and print files associated with the selected record node, check to see if all the record nodes have been represented.\n",
    "if platform.system() == \"Windows\":\n",
    "    pattern = f\"Record Node {selected_record_node}\\\\**\\\\*continuous.dat\"\n",
    "    for file in base_path.glob(pattern):\n",
    "        print(file)\n",
    "elif platform.system() == \"Linux\":\n",
    "    pattern = f\"Record Node {selected_record_node}/**/*continuous.dat\"\n",
    "    for file in base_path.glob(pattern):\n",
    "        print(file)"
   ],
   "metadata": {
    "collapsed": false,
    "ExecuteTime": {
     "end_time": "2023-10-24T19:12:51.776655972Z",
     "start_time": "2023-10-24T19:12:51.761803489Z"
    }
   },
   "id": "8543d4fb9efa5fe5"
  },
  {
   "cell_type": "code",
   "execution_count": 55,
   "outputs": [
    {
     "name": "stdout",
     "output_type": "stream",
     "text": [
      "[PosixPath('/home/kimqi/Documents/Data/Raw/Orange/2023-08-17_10-01-16/Record Node 106/experiment1/recording1/continuous/Intan_Rec._Controller-100.0/continuous.dat'), PosixPath('/home/kimqi/Documents/Data/Raw/Orange/2023-08-17_10-01-16/Record Node 106/experiment2/recording1/continuous/Intan_Rec._Controller-100.0/continuous.dat'), PosixPath('/home/kimqi/Documents/Data/Raw/Orange/2023-08-17_10-01-16/Record Node 106/experiment2/recording2/continuous/Intan_Rec._Controller-100.0/continuous.dat'), PosixPath('/home/kimqi/Documents/Data/Raw/Orange/2023-08-17_10-01-16/Record Node 106/experiment2/recording3/continuous/Intan_Rec._Controller-100.0/continuous.dat')]\n",
      "Concatenating the following files:\n",
      "/home/kimqi/Documents/Data/Raw/Orange/2023-08-17_10-01-16/Record Node 106/experiment1/recording1/continuous/Intan_Rec._Controller-100.0/continuous.dat\n",
      "/home/kimqi/Documents/Data/Raw/Orange/2023-08-17_10-01-16/Record Node 106/experiment2/recording1/continuous/Intan_Rec._Controller-100.0/continuous.dat\n",
      "/home/kimqi/Documents/Data/Raw/Orange/2023-08-17_10-01-16/Record Node 106/experiment2/recording2/continuous/Intan_Rec._Controller-100.0/continuous.dat\n",
      "/home/kimqi/Documents/Data/Raw/Orange/2023-08-17_10-01-16/Record Node 106/experiment2/recording3/continuous/Intan_Rec._Controller-100.0/continuous.dat\n"
     ]
    }
   ],
   "source": [
    "# Concatenate recording files together\n",
    "files_to_concatenate = sorted(base_path.glob(pattern))\n",
    "print(files_to_concatenate)\n",
    "\n",
    "# Print the files to be concatenated\n",
    "print(\"Concatenating the following files:\")\n",
    "for f in files_to_concatenate:\n",
    "    print(f)\n",
    "\n",
    "# Concatenate the files\n",
    "dat_file = base_path / \"continuous_combined.dat\"\n",
    "with dat_file.open('wb') as wfd:\n",
    "    for f in files_to_concatenate:\n",
    "        with f.open('rb') as fd:\n",
    "            shutil.copyfileobj(fd, wfd)\n",
    "eeg_file = dat_file.with_suffix(\".eeg\")"
   ],
   "metadata": {
    "collapsed": false,
    "ExecuteTime": {
     "end_time": "2023-10-24T19:12:56.281326049Z",
     "start_time": "2023-10-24T19:12:54.926025978Z"
    }
   },
   "id": "bb81e20c363b9b05"
  },
  {
   "cell_type": "code",
   "execution_count": 57,
   "outputs": [
    {
     "name": "stdout",
     "output_type": "stream",
     "text": [
      "Input File     : /home/kimqi/Documents/Data/Raw/Orange/2023-08-17_10-01-16/continuous_combined.dat\r\n",
      "Channels       : 35\r\n",
      "Sampling Rate  : 30000.000000\r\n",
      "Output file    : /home/kimqi/Documents/Data/Raw/Orange/2023-08-17_10-01-16/continuous_combined.eeg\r\n",
      "Sampling Rate  : 1250.000000\r\n",
      "Freq Ratio     : 0.041667\r\n",
      "Converter      : Fastest Sinc Interpolator\r\n",
      "Resampling     : 0% ##################################################\r\n",
      "Output Frames  : 1515008\r\n"
     ]
    }
   ],
   "source": [
    "!process_resample -n 35 -f 30000,1250 {dat_file} {eeg_file}"
   ],
   "metadata": {
    "collapsed": false,
    "ExecuteTime": {
     "end_time": "2023-10-24T19:13:42.067604811Z",
     "start_time": "2023-10-24T19:13:01.070642164Z"
    }
   },
   "id": "c99cd0619d4bf01b"
  },
  {
   "cell_type": "code",
   "execution_count": 58,
   "outputs": [
    {
     "name": "stdout",
     "output_type": "stream",
     "text": [
      "Copied and renamed file to: /home/kimqi/Documents/Data/Preprocessed Data/Orange/2023-08-17/20230817.eeg\n"
     ]
    }
   ],
   "source": [
    "## Copy the .eeg file from original raw folder to preprocessed folder.\n",
    "import shutil\n",
    "from pathlib import Path\n",
    "\n",
    "# Specify the source file and target directory\n",
    "src_file = Path(eeg_file)\n",
    "target_dir = Path(new_output_path)\n",
    "\n",
    "new_file_name = formatted_date+\".eeg\"\n",
    "\n",
    "# Combine the target directory with the new file name\n",
    "dst_file = target_dir / new_file_name\n",
    "\n",
    "# Copy and rename\n",
    "shutil.copy(src_file, dst_file)\n",
    "\n",
    "print(f\"Copied and renamed file to: {dst_file}\")"
   ],
   "metadata": {
    "collapsed": false,
    "ExecuteTime": {
     "end_time": "2023-10-24T19:13:47.427354602Z",
     "start_time": "2023-10-24T19:13:47.370210544Z"
    }
   },
   "id": "2fff640826b33946"
  }
 ],
 "metadata": {
  "kernelspec": {
   "display_name": "Python 3",
   "language": "python",
   "name": "python3"
  },
  "language_info": {
   "codemirror_mode": {
    "name": "ipython",
    "version": 2
   },
   "file_extension": ".py",
   "mimetype": "text/x-python",
   "name": "python",
   "nbconvert_exporter": "python",
   "pygments_lexer": "ipython2",
   "version": "2.7.6"
  }
 },
 "nbformat": 4,
 "nbformat_minor": 5
}
