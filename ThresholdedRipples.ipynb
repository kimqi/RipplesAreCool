{
 "cells": [
  {
   "cell_type": "code",
   "execution_count": 0,
   "id": "93bda0877d57db62",
   "metadata": {
    "collapsed": true
   },
   "outputs": [],
   "source": [
    "# Imports\n",
    "import sys\n",
    "import numpy as np\n",
    "\n",
    "\n"
   ]
  },
  {
   "cell_type": "code",
   "execution_count": 37,
   "outputs": [
    {
     "name": "stdout",
     "output_type": "stream",
     "text": [
      "params: {'lowThres': 3, 'highThresh': None, 'freq_band': (150, 250), 'mindur': 0.05, 'maxdur': 0.45}\n",
      "channels: [11.0]\n",
      "Ripple 0: Start - 11.3136, Stop - 11.4768\n",
      "Ripple 1: Start - 17.6344, Stop - 17.82\n",
      "Ripple 2: Start - 22.2808, Stop - 22.3328\n",
      "Ripple 3: Start - 25.2864, Stop - 25.3384\n",
      "Ripple 4: Start - 39.1344, Stop - 39.2072\n"
     ]
    },
    {
     "data": {
      "text/plain": "160"
     },
     "execution_count": 37,
     "metadata": {},
     "output_type": "execute_result"
    }
   ],
   "source": [
    "# Example Load of ripples\n",
    "data = np.load(\"D:/Data/RippleDetection/TraceFC/Django/2023_03_09_recall1/Django_recall1_denoised.ripple.npy\", allow_pickle=True)\n",
    "\n",
    "value = data.item()\n",
    "\n",
    "metadata = value['metadata']\n",
    "for key, val in metadata.items():\n",
    "    print(f\"{key}: {val}\")\n",
    "    \n",
    "epochs = value['epochs']\n",
    "start_times = epochs['start']\n",
    "stop_times = epochs['stop']\n",
    "\n",
    "# For example, to print the first few start and stop times:\n",
    "for i in range(5):\n",
    "    print(f\"Ripple {i}: Start - {start_times[i]}, Stop - {stop_times[i]}\")\n",
    "(start_times)"
   ],
   "metadata": {
    "collapsed": false,
    "ExecuteTime": {
     "end_time": "2023-10-02T15:03:44.767656600Z",
     "start_time": "2023-10-02T15:03:44.761694500Z"
    }
   },
   "id": "initial_id"
  }
 ],
 "metadata": {
  "kernelspec": {
   "display_name": "Python 3",
   "language": "python",
   "name": "python3"
  },
  "language_info": {
   "codemirror_mode": {
    "name": "ipython",
    "version": 2
   },
   "file_extension": ".py",
   "mimetype": "text/x-python",
   "name": "python",
   "nbconvert_exporter": "python",
   "pygments_lexer": "ipython2",
   "version": "2.7.6"
  }
 },
 "nbformat": 4,
 "nbformat_minor": 5
}
