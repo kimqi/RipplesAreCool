{
 "cells": [
  {
   "cell_type": "code",
   "execution_count": 1,
   "outputs": [],
   "source": [
    "import numpy as np\n",
    "import os\n",
    "import sys\n",
    "import matplotlib.pyplot as plt\n",
    "import seaborn as sns\n",
    "import pandas as pd\n",
    "from pathlib import Path\n",
    "import platform\n",
    "import tkinter as tk\n",
    "from tkinter import filedialog\n",
    "from scipy.signal import butter, filtfilt\n",
    "\n",
    "from neuropy.io.neuroscopeio import NeuroscopeIO\n",
    "from neuropy.io.binarysignalio import BinarysignalIO \n",
    "from neuropy.io.miniscopeio import MiniscopeIO\n",
    "from neuropy.core import Epoch\n",
    "from neuropy.utils import plot_util\n",
    "from neuropy.plotting.spikes import plot_raster\n",
    "from neuropy.plotting.signals import plot_signal_w_epochs\n",
    "\n",
    "sys.path.insert(1, 'C:/BrianKim/Code/Repositories/cnn-ripple/src/cnn/')"
   ],
   "metadata": {
    "collapsed": false,
    "ExecuteTime": {
     "end_time": "2023-10-24T16:18:20.330608500Z",
     "start_time": "2023-10-24T16:18:19.596267300Z"
    }
   },
   "id": "b7a91d3cfe8d384e"
  },
  {
   "cell_type": "code",
   "execution_count": 2,
   "outputs": [],
   "source": [
    "# Define a class for a typical recording or set of recordings\n",
    "class ProcessData:\n",
    "    def __init__(self, basepath):\n",
    "        basepath = Path(basepath)\n",
    "        self.basepath = basepath\n",
    "        xml_files = sorted(basepath.glob(\"*.xml\"))\n",
    "        assert len(xml_files) == 1, \"Found more/less than one .xml file\"\n",
    "        \n",
    "        fp = xml_files[0].with_suffix(\"\")\n",
    "        self.filePrefix = fp\n",
    "        \n",
    "        self.recinfo = NeuroscopeIO(xml_files[0])\n",
    "        eegfiles = sorted(basepath.glob('*.eeg'))\n",
    "        assert len(eegfiles) == 1, \"Fewer/more than one .eeg file detected\"\n",
    "        self.eegfile = BinarysignalIO(eegfiles[0], n_channels=self.recinfo.n_channels,\n",
    "                                     sampling_rate=self.recinfo.eeg_sampling_rate,\n",
    "                                     )\n",
    "        try:\n",
    "            self.datfile = BinarysignalIO(eegfiles[0].with_suffix('.dat'),\n",
    "                                         n_channels=self.recinfo.n_channels,\n",
    "                                         sampling_rate=self.recinfo.dat_sampling_rate,\n",
    "                                         )\n",
    "        except FileNotFoundError:\n",
    "            print('No dat file found, not loading')\n",
    "                \n",
    "        \n",
    "    def __repr__(self) -> str:\n",
    "        return f\"{self.__class__.__name__}({self.recinfo.source_file.name})\"\n",
    "    \n",
    "def sess_use(basepath=os.getcwd()):\n",
    "    \"\"\"Load in data. Uses current directory as default\"\"\"\n",
    "\n",
    "    return ProcessData(basepath)"
   ],
   "metadata": {
    "collapsed": false,
    "ExecuteTime": {
     "end_time": "2023-10-24T16:18:21.334593200Z",
     "start_time": "2023-10-24T16:18:21.332264100Z"
    }
   },
   "id": "8a6c3c5840870c93"
  },
  {
   "cell_type": "code",
   "execution_count": 3,
   "id": "initial_id",
   "metadata": {
    "collapsed": true,
    "ExecuteTime": {
     "end_time": "2023-10-24T16:18:25.890355700Z",
     "start_time": "2023-10-24T16:18:23.675264700Z"
    }
   },
   "outputs": [
    {
     "name": "stdout",
     "output_type": "stream",
     "text": [
      "Selected Data Directory: D:/Data/RippleDetection/Orange/20230905\n",
      "No dat file found, not loading\n",
      "filename: D:\\Data\\RippleDetection\\Orange\\20230905\\Orange_20230905.xml \n",
      "# channels: 35\n",
      "sampling rate: 30000\n",
      "lfp Srate (downsampled): 1250\n",
      "\n",
      "duration: 601.19 seconds \n",
      "duration: 0.17 hours \n"
     ]
    }
   ],
   "source": [
    "# Open a directory chooser dialog\n",
    "dir_use = filedialog.askdirectory(title=\"Please select a data folder\")\n",
    "\n",
    "# Check if user selected a directory or pressed cancel\n",
    "if dir_use:\n",
    "    print(f\"Selected Data Directory: {dir_use}\")\n",
    "else:\n",
    "    print(\"No directory was selected.\")\n",
    "\n",
    "sess = sess_use(dir_use)\n",
    "\n",
    "print(sess.recinfo)\n",
    "print(sess.eegfile)\n"
   ]
  },
  {
   "cell_type": "code",
   "execution_count": 4,
   "outputs": [],
   "source": [
    "from neuropy.analyses.artifact import detect_artifact_epochs\n",
    "\n",
    "cur_file = 'D:\\\\Data\\\\RippleDetection\\\\Orange\\\\20230905\\\\Orange_20230905.eeg'"
   ],
   "metadata": {
    "collapsed": false,
    "ExecuteTime": {
     "end_time": "2023-10-24T16:18:28.805412700Z",
     "start_time": "2023-10-24T16:18:28.506267900Z"
    }
   },
   "id": "ad34677e037f27eb"
  },
  {
   "cell_type": "code",
   "execution_count": 5,
   "outputs": [
    {
     "name": "stdout",
     "output_type": "stream",
     "text": [
      "(32, 821940)\n",
      "(821940, 32)\n"
     ]
    }
   ],
   "source": [
    "binary_data = BinarysignalIO(cur_file, n_channels=32,sampling_rate=30000)\n",
    "signal_obj = binary_data.get_signal()\n",
    "whole_data = signal_obj.traces\n",
    "print(np.shape(whole_data))\n",
    "data = whole_data.T\n",
    "print(np.shape(data))"
   ],
   "metadata": {
    "collapsed": false,
    "ExecuteTime": {
     "end_time": "2023-10-24T16:18:29.878867100Z",
     "start_time": "2023-10-24T16:18:29.875359600Z"
    }
   },
   "id": "7e71178ac0ae3d5e"
  },
  {
   "cell_type": "code",
   "execution_count": 6,
   "outputs": [
    {
     "name": "stdout",
     "output_type": "stream",
     "text": [
      "Buffer of 0.1 added before/after each epoch\n",
      "D:\\Data\\RippleDetection\\Orange\\20230905\\Orange_20230905.art_epochs.npy saved\n"
     ]
    },
    {
     "data": {
      "text/plain": "1 epochs\nSnippet: \n       start      stop label\n0  338.9664  339.2272      "
     },
     "execution_count": 6,
     "metadata": {},
     "output_type": "execute_result"
    }
   ],
   "source": [
    "signal = sess.eegfile.get_signal()\n",
    "buffer_add = 0.1  # seconds, None = don't add\n",
    "\n",
    "\n",
    "art_epochs_file = sess.filePrefix.with_suffix(\".art_epochs.npy\")\n",
    "if art_epochs_file.exists():\n",
    "    art_epochs = Epoch(epochs=None, file=art_epochs_file)\n",
    "    print('Existing artifact epochs file loaded')\n",
    "else:\n",
    "    art_epochs = detect_artifact_epochs(signal, thresh=6, \n",
    "                                    edge_cutoff=1, merge=6)\n",
    "\n",
    "    if buffer_add is not None:  # Add in buffer to prevent erroneous detection of start/stop of artifact as SWRs\n",
    "        art_epochs.add_epoch_buffer(buffer_add)\n",
    "    sess.recinfo.write_epochs(epochs=art_epochs, ext='art')  # Write to neuroscope\n",
    "    art_epochs.save(art_epochs_file)\n",
    "art_epochs"
   ],
   "metadata": {
    "collapsed": false,
    "ExecuteTime": {
     "end_time": "2023-10-24T16:18:32.219605400Z",
     "start_time": "2023-10-24T16:18:32.163263600Z"
    }
   },
   "id": "b93801058d1f3ff7"
  },
  {
   "cell_type": "code",
   "execution_count": 12,
   "outputs": [],
   "source": [
    "# Helper Functions\n",
    "def filter0(b, x):\n",
    "    if x.shape[0] == 1:\n",
    "        x = np.transpose(x)\n",
    "    \n",
    "    if len(b) % 2 != 1:\n",
    "        raise ValueError(\"Filter order should be odd\")\n",
    "    \n",
    "    shift = (len(b) - 1) // 2\n",
    "    \n",
    "    from scipy.signal import lfilter\n",
    "    y0 = lfilter(b, [1], x)\n",
    "    \n",
    "    z = np.zeros(shift)\n",
    "    \n",
    "    y = np.concatenate((y0[shift:], z[:shift]))\n",
    "    return y\n",
    "\n",
    "\n",
    "def unity(A):\n",
    "    meanA = np.mean(A)\n",
    "    stdA = np.std(A)\n",
    "    U = (A - meanA) / stdA\n",
    "    return U, stdA\n",
    "\n",
    "\n",
    "def in_intervals(timestamps, restrict):\n",
    "    # Assuming `restrict` is an Nx2 array, where each row is [start, stop] interval\n",
    "    keep = np.any([(timestamps >= start) & (timestamps <= stop) for start, stop in restrict], axis=0)\n",
    "    return keep\n",
    "\n",
    "\n",
    "def butter_bandpass_filter(data, lowcut, highcut, fs, order=3):\n",
    "    b, a = butter(order, [lowcut, highcut], btype='band', fs=fs)\n",
    "    filtered_data = filtfilt(b, a, data)\n",
    "    return filtered_data"
   ],
   "metadata": {
    "collapsed": false,
    "ExecuteTime": {
     "end_time": "2023-10-24T16:19:04.801412Z",
     "start_time": "2023-10-24T16:19:04.796268Z"
    }
   },
   "id": "1d4febf62116991b"
  },
  {
   "cell_type": "code",
   "execution_count": 11,
   "outputs": [
    {
     "name": "stdout",
     "output_type": "stream",
     "text": [
      "[3.23068691e+02 5.05080773e+06 1.14270444e+07 ... 6.45454946e+07\n",
      " 6.94142373e+07 6.41030022e+07]\n",
      "[0. 0. 0. 0. 0.]\n"
     ]
    }
   ],
   "source": [
    "\n"
   ],
   "metadata": {
    "collapsed": false,
    "ExecuteTime": {
     "end_time": "2023-10-24T16:18:49.122375100Z",
     "start_time": "2023-10-24T16:18:49.115267300Z"
    }
   },
   "id": "dd33384b7246df52"
  },
  {
   "cell_type": "code",
   "execution_count": 18,
   "outputs": [],
   "source": [
    "def bz_FindRipples(basepath=None, channel=None, lfp_data=None, timestamps=None, **kwargs):\n",
    "    \"\"\"\n",
    "    Find hippocampal ripples (100~200Hz oscillations).\n",
    "    \"\"\"\n",
    "    # Default parameters\n",
    "    params = {\n",
    "        'thresholds': [2, 5],\n",
    "        'durations': [30, 100],\n",
    "        'restrict': None,\n",
    "        'frequency': 1250,\n",
    "        'stdev': None,\n",
    "        'show': 'off',\n",
    "        'noise': None,\n",
    "        'passband': [130, 200],\n",
    "        'EMGThresh': 0.9,\n",
    "        'saveMat': False,\n",
    "        'minDuration': 20,\n",
    "        'plotType': 2\n",
    "    }\n",
    "    \n",
    "    # Update parameters with provided kwargs\n",
    "    for key, value in kwargs.items():\n",
    "        if key in params:\n",
    "            params[key] = value\n",
    "    \n",
    "    # Extract and assign parameters\n",
    "    frequency = params['frequency']\n",
    "    restrict = params['restrict']\n",
    "    sd = params['stdev']\n",
    "    passband = params['passband']\n",
    "    \n",
    "    signal = butter_bandpass_filter(data, passband[0], passband[1], frequency, order=3)\n",
    "    \n",
    "    \n",
    "    windowLength = 11\n",
    "    # \n",
    "    squaredSignal = signal ** 2\n",
    "    window = np.ones(windowLength) / windowLength\n",
    "    test = np.sum(squaredSignal, axis=1)\n",
    "    filter0(window, test)\n",
    "    normalizedSquaredsignal, sd = unity(filter0(window, np.sum(squaredSignal, axis=1)))\n",
    "    \n",
    "    return normalizedSquaredsignal, sd"
   ],
   "metadata": {
    "collapsed": false,
    "ExecuteTime": {
     "end_time": "2023-10-24T16:19:57.584072500Z",
     "start_time": "2023-10-24T16:19:57.580565900Z"
    }
   },
   "id": "2186aadd8a2b174b"
  },
  {
   "cell_type": "code",
   "execution_count": 20,
   "outputs": [
    {
     "name": "stdout",
     "output_type": "stream",
     "text": [
      "[-3.30351022 -2.60833883 -1.9287399  ... -6.81899092 -6.81899092\n",
      " -6.81899092]\n",
      "9330154.266621364\n"
     ]
    }
   ],
   "source": [
    "lfp_data = np.copy(data[:,24])\n",
    "\n",
    "normalizedSquaredsignal, sd = bz_FindRipples(lfp_data=lfp_data)\n",
    "\n",
    "print(normalizedSquaredsignal)\n",
    "print(sd)"
   ],
   "metadata": {
    "collapsed": false,
    "ExecuteTime": {
     "end_time": "2023-10-24T16:20:04.932556400Z",
     "start_time": "2023-10-24T16:20:03.546282600Z"
    }
   },
   "id": "376b26da0fb59dcd"
  }
 ],
 "metadata": {
  "kernelspec": {
   "display_name": "Python 3",
   "language": "python",
   "name": "python3"
  },
  "language_info": {
   "codemirror_mode": {
    "name": "ipython",
    "version": 2
   },
   "file_extension": ".py",
   "mimetype": "text/x-python",
   "name": "python",
   "nbconvert_exporter": "python",
   "pygments_lexer": "ipython2",
   "version": "2.7.6"
  }
 },
 "nbformat": 4,
 "nbformat_minor": 5
}
