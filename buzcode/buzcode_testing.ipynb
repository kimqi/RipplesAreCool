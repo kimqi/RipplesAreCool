{
 "cells": [
  {
   "cell_type": "code",
   "execution_count": 2,
   "id": "initial_id",
   "metadata": {
    "collapsed": true,
    "ExecuteTime": {
     "end_time": "2023-10-24T15:37:05.410206100Z",
     "start_time": "2023-10-24T15:37:05.334624500Z"
    }
   },
   "outputs": [
    {
     "name": "stderr",
     "output_type": "stream",
     "text": [
      "C:\\Users\\bkimq\\AppData\\Local\\Temp\\ipykernel_14896\\1408584878.py:22: FutureWarning: elementwise comparison failed; returning scalar instead, but in the future will perform elementwise comparison\n",
      "  if 'samplingRate' in samples:\n"
     ]
    },
    {
     "ename": "ValueError",
     "evalue": "The length of the input vector x must be greater than padlen, which is 150003.",
     "output_type": "error",
     "traceback": [
      "\u001B[1;31m---------------------------------------------------------------------------\u001B[0m",
      "\u001B[1;31mValueError\u001B[0m                                Traceback (most recent call last)",
      "Cell \u001B[1;32mIn[2], line 73\u001B[0m\n\u001B[0;32m     71\u001B[0m \u001B[38;5;66;03m# Usage example:\u001B[39;00m\n\u001B[0;32m     72\u001B[0m samples \u001B[38;5;241m=\u001B[39m np\u001B[38;5;241m.\u001B[39marray([\u001B[38;5;241m1\u001B[39m,\u001B[38;5;241m2\u001B[39m,\u001B[38;5;241m3\u001B[39m,\u001B[38;5;241m4\u001B[39m,\u001B[38;5;241m5\u001B[39m])  \u001B[38;5;66;03m# Your sample data\u001B[39;00m\n\u001B[1;32m---> 73\u001B[0m result \u001B[38;5;241m=\u001B[39m bz_filter(samples, passband\u001B[38;5;241m=\u001B[39m[\u001B[38;5;241m0.1\u001B[39m, \u001B[38;5;241m0.5\u001B[39m], \u001B[38;5;28mfilter\u001B[39m\u001B[38;5;241m=\u001B[39m\u001B[38;5;124m'\u001B[39m\u001B[38;5;124mfir1\u001B[39m\u001B[38;5;124m'\u001B[39m)\n",
      "Cell \u001B[1;32mIn[2], line 67\u001B[0m, in \u001B[0;36mbz_filter\u001B[1;34m(samples, **kwargs)\u001B[0m\n\u001B[0;32m     64\u001B[0m     \u001B[38;5;28;01mpass\u001B[39;00m  \u001B[38;5;66;03m# Add the relevant conversion here\u001B[39;00m\n\u001B[0;32m     65\u001B[0m \u001B[38;5;28;01melse\u001B[39;00m:\n\u001B[0;32m     66\u001B[0m     \u001B[38;5;66;03m# Handle as simple time series\u001B[39;00m\n\u001B[1;32m---> 67\u001B[0m     filtered \u001B[38;5;241m=\u001B[39m filtfilt(b, a, samples)\n\u001B[0;32m     69\u001B[0m \u001B[38;5;28;01mreturn\u001B[39;00m filtered\n",
      "File \u001B[1;32m~\\.conda\\envs\\RipplesAreCool\\Lib\\site-packages\\scipy\\signal\\_signaltools.py:4159\u001B[0m, in \u001B[0;36mfiltfilt\u001B[1;34m(b, a, x, axis, padtype, padlen, method, irlen)\u001B[0m\n\u001B[0;32m   4156\u001B[0m     \u001B[38;5;28;01mreturn\u001B[39;00m y\n\u001B[0;32m   4158\u001B[0m \u001B[38;5;66;03m# method == \"pad\"\u001B[39;00m\n\u001B[1;32m-> 4159\u001B[0m edge, ext \u001B[38;5;241m=\u001B[39m _validate_pad(padtype, padlen, x, axis,\n\u001B[0;32m   4160\u001B[0m                           ntaps\u001B[38;5;241m=\u001B[39m\u001B[38;5;28mmax\u001B[39m(\u001B[38;5;28mlen\u001B[39m(a), \u001B[38;5;28mlen\u001B[39m(b)))\n\u001B[0;32m   4162\u001B[0m \u001B[38;5;66;03m# Get the steady state of the filter's step response.\u001B[39;00m\n\u001B[0;32m   4163\u001B[0m zi \u001B[38;5;241m=\u001B[39m lfilter_zi(b, a)\n",
      "File \u001B[1;32m~\\.conda\\envs\\RipplesAreCool\\Lib\\site-packages\\scipy\\signal\\_signaltools.py:4209\u001B[0m, in \u001B[0;36m_validate_pad\u001B[1;34m(padtype, padlen, x, axis, ntaps)\u001B[0m\n\u001B[0;32m   4207\u001B[0m \u001B[38;5;66;03m# x's 'axis' dimension must be bigger than edge.\u001B[39;00m\n\u001B[0;32m   4208\u001B[0m \u001B[38;5;28;01mif\u001B[39;00m x\u001B[38;5;241m.\u001B[39mshape[axis] \u001B[38;5;241m<\u001B[39m\u001B[38;5;241m=\u001B[39m edge:\n\u001B[1;32m-> 4209\u001B[0m     \u001B[38;5;28;01mraise\u001B[39;00m \u001B[38;5;167;01mValueError\u001B[39;00m(\u001B[38;5;124m\"\u001B[39m\u001B[38;5;124mThe length of the input vector x must be greater \u001B[39m\u001B[38;5;124m\"\u001B[39m\n\u001B[0;32m   4210\u001B[0m                      \u001B[38;5;124m\"\u001B[39m\u001B[38;5;124mthan padlen, which is \u001B[39m\u001B[38;5;132;01m%d\u001B[39;00m\u001B[38;5;124m.\u001B[39m\u001B[38;5;124m\"\u001B[39m \u001B[38;5;241m%\u001B[39m edge)\n\u001B[0;32m   4212\u001B[0m \u001B[38;5;28;01mif\u001B[39;00m padtype \u001B[38;5;129;01mis\u001B[39;00m \u001B[38;5;129;01mnot\u001B[39;00m \u001B[38;5;28;01mNone\u001B[39;00m \u001B[38;5;129;01mand\u001B[39;00m edge \u001B[38;5;241m>\u001B[39m \u001B[38;5;241m0\u001B[39m:\n\u001B[0;32m   4213\u001B[0m     \u001B[38;5;66;03m# Make an extension of length `edge` at each\u001B[39;00m\n\u001B[0;32m   4214\u001B[0m     \u001B[38;5;66;03m# end of the input array.\u001B[39;00m\n\u001B[0;32m   4215\u001B[0m     \u001B[38;5;28;01mif\u001B[39;00m padtype \u001B[38;5;241m==\u001B[39m \u001B[38;5;124m'\u001B[39m\u001B[38;5;124meven\u001B[39m\u001B[38;5;124m'\u001B[39m:\n",
      "\u001B[1;31mValueError\u001B[0m: The length of the input vector x must be greater than padlen, which is 150003."
     ]
    }
   ],
   "source": [
    "import numpy as np\n",
    "from scipy.signal import cheby2, filtfilt, firwin, butter, hilbert\n",
    "\n",
    "def bz_filter(samples, **kwargs):\n",
    "    # Default values\n",
    "    passband = kwargs.get('passband', [])\n",
    "    stopband = kwargs.get('stopband', [])\n",
    "    order = kwargs.get('order', 4)\n",
    "    ripple = kwargs.get('ripple', 20)\n",
    "    nyquist = kwargs.get('nyquist', 625)\n",
    "    filter_type = kwargs.get('filter', 'cheby2')\n",
    "    FMAlegacy = kwargs.get('FMAlegacy', False)\n",
    "    BUZCODE = kwargs.get('BUZCODE', False)\n",
    "    fast = kwargs.get('fast', False)\n",
    "    channels = kwargs.get('channels', [])\n",
    "    intervals = kwargs.get('intervals', [-np.inf, np.inf])\n",
    "\n",
    "    # Check for valid inputs\n",
    "    if not passband and not stopband:\n",
    "        raise ValueError(\"Missing passband or stopband.\")\n",
    "\n",
    "    if 'samplingRate' in samples:\n",
    "        nyquist = 0.5 * samples['samplingRate']\n",
    "\n",
    "    if filter_type == 'cheby2':\n",
    "        if passband:\n",
    "            if passband[0] == 0:\n",
    "                b, a = cheby2(order, ripple, passband[1] / nyquist, btype='low')\n",
    "            elif passband[1] == np.inf:\n",
    "                b, a = cheby2(order, ripple, passband[0] / nyquist, btype='high')\n",
    "            else:\n",
    "                b, a = cheby2(order, ripple, [i / nyquist for i in passband], btype='band')\n",
    "        else:\n",
    "            b, a = cheby2(order, ripple, [i / nyquist for i in stopband], btype='stop')\n",
    "    elif filter_type == 'fir1':\n",
    "        # Order input to fir1 needs to be in samples, not cycles\n",
    "        if passband:\n",
    "            if passband[0] == 0:\n",
    "                filt_order = round(order * 2 * nyquist / passband[1])\n",
    "                b = firwin(filt_order + 1, passband[1] / nyquist, pass_zero='lowpass')\n",
    "            elif passband[1] == np.inf:\n",
    "                filt_order = round(order * 2 * nyquist / passband[0])\n",
    "                b = firwin(filt_order + 1, passband[0] / nyquist, pass_zero='highpass')\n",
    "            else:\n",
    "                filt_order = round(order * 2 * nyquist / passband[0])\n",
    "                b = firwin(filt_order + 1, [i / nyquist for i in passband])\n",
    "        else:\n",
    "            filt_order = round(order * 2 * nyquist / stopband[0])\n",
    "            b = firwin(filt_order + 1, [i / nyquist for i in stopband], pass_zero='bandstop')\n",
    "        a = 1  # For FIR filter, a is 1\n",
    "    elif filter_type == 'butter':\n",
    "        if passband:\n",
    "            b, a = butter(order, [i / nyquist for i in passband], btype='band')\n",
    "        else:\n",
    "            b, a = butter(order, stopband[0] / nyquist, btype='stop')\n",
    "    else:\n",
    "        raise ValueError(f\"Unknown filter type: {filter_type}\")\n",
    "\n",
    "    if BUZCODE:\n",
    "        # Handle BUZCODE structure (assuming it's a dictionary)\n",
    "        pass  # Add the relevant conversion here\n",
    "    elif FMAlegacy:\n",
    "        # Handle FMAlegacy structure (assuming it's a numpy array or similar)\n",
    "        pass  # Add the relevant conversion here\n",
    "    else:\n",
    "        # Handle as simple time series\n",
    "        filtered = filtfilt(b, a, samples)\n",
    "\n",
    "    return filtered\n",
    "\n",
    "# Usage example:\n",
    "samples = np.array([1,2,3,4,5])  # Your sample data\n",
    "result = bz_filter(samples, passband=[0.1, 0.5], filter='fir1')\n"
   ]
  }
 ],
 "metadata": {
  "kernelspec": {
   "display_name": "Python 3",
   "language": "python",
   "name": "python3"
  },
  "language_info": {
   "codemirror_mode": {
    "name": "ipython",
    "version": 2
   },
   "file_extension": ".py",
   "mimetype": "text/x-python",
   "name": "python",
   "nbconvert_exporter": "python",
   "pygments_lexer": "ipython2",
   "version": "2.7.6"
  }
 },
 "nbformat": 4,
 "nbformat_minor": 5
}
